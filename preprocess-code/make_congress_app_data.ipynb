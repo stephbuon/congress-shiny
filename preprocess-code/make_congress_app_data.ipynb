{
 "cells": [
  {
   "cell_type": "code",
   "execution_count": 1,
   "metadata": {},
   "outputs": [],
   "source": [
    "import pandas as pd\n",
    "import re \n",
    "from datetime import datetime\n",
    "\n",
    "stanford_congress = pd.read_csv(\"/scratch/group/pract-txt-mine/sbuongiorno/clean_stanford_congressional_data.csv\")\n",
    "stanford_congress = stanford_congress.drop(['Unnamed: 0', 'Unnamed: 0.1', 'chamber', 'number_within_file', 'first_name', 'last_name', 'state', 'gender', 'line_start', 'line_end', 'char_count', 'word_count'], axis=1)\n",
    "stanford_congress['date']=pd.to_datetime(stanford_congress['date'],format='%Y%m%d')\n",
    "stanford_congress = stanford_congress[(stanford_congress['date'] > '1969-01-01')]\n",
    "stanford_congress.to_csv(\"/scratch/group/pract-txt-mine/sbuongiorno/congress_app_data.csv\")"
   ]
  }
 ],
 "metadata": {
  "kernelspec": {
   "display_name": "Python 3.9.9 64-bit",
   "language": "python",
   "name": "python3"
  },
  "language_info": {
   "codemirror_mode": {
    "name": "ipython",
    "version": 3
   },
   "file_extension": ".py",
   "mimetype": "text/x-python",
   "name": "python",
   "nbconvert_exporter": "python",
   "pygments_lexer": "ipython3",
   "version": "3.9.9"
  },
  "vscode": {
   "interpreter": {
    "hash": "e7370f93d1d0cde622a1f8e1c04877d8463912d04d973331ad4851f04de6915a"
   }
  }
 },
 "nbformat": 4,
 "nbformat_minor": 4
}
